{
 "cells": [
  {
   "cell_type": "markdown",
   "metadata": {
    "id": "oL9KopJirB2g"
   },
   "source": [
    "##### Copyright 2018 The TensorFlow Authors."
   ]
  },
  {
   "cell_type": "code",
   "execution_count": 1,
   "metadata": {
    "cellView": "form",
    "execution": {
     "iopub.execute_input": "2023-12-07T12:38:28.125211Z",
     "iopub.status.busy": "2023-12-07T12:38:28.124979Z",
     "iopub.status.idle": "2023-12-07T12:38:28.128996Z",
     "shell.execute_reply": "2023-12-07T12:38:28.128436Z"
    },
    "id": "SKaX3Hd3ra6C"
   },
   "outputs": [],
   "source": [
    "#@title Licensed under the Apache License, Version 2.0 (the \"License\");\n",
    "# you may not use this file except in compliance with the License.\n",
    "# You may obtain a copy of the License at\n",
    "#\n",
    "# https://www.apache.org/licenses/LICENSE-2.0\n",
    "#\n",
    "# Unless required by applicable law or agreed to in writing, software\n",
    "# distributed under the License is distributed on an \"AS IS\" BASIS,\n",
    "# WITHOUT WARRANTIES OR CONDITIONS OF ANY KIND, either express or implied.\n",
    "# See the License for the specific language governing permissions and\n",
    "# limitations under the License."
   ]
  },
  {
   "cell_type": "markdown",
   "metadata": {
    "id": "AXH1bmUctMld"
   },
   "source": [
    "# Unicode strings\n",
    "\n",
    "<table class=\"tfo-notebook-buttons\" align=\"left\">\n",
    "  <td>\n",
    "    <a target=\"_blank\" href=\"https://www.tensorflow.org/text/guide/unicode\"><img src=\"https://www.tensorflow.org/images/tf_logo_32px.png\" />View on TensorFlow.org</a>\n",
    "  </td>\n",
    "  <td>\n",
    "    <a target=\"_blank\" href=\"https://colab.research.google.com/github/tensorflow/text/blob/master/docs/guide/unicode.ipynb\"><img src=\"https://www.tensorflow.org/images/colab_logo_32px.png\" />Run in Google Colab</a>\n",
    "  </td>\n",
    "  <td>\n",
    "    <a target=\"_blank\" href=\"https://github.com/tensorflow/text/blob/master/docs/guide/unicode.ipynb\"><img src=\"https://www.tensorflow.org/images/GitHub-Mark-32px.png\" />View source on GitHub</a>\n",
    "  </td>\n",
    "  <td>\n",
    "    <a href=\"https://storage.googleapis.com/tensorflow_docs/text/docs/guide/unicode.ipynb\"><img src=\"https://www.tensorflow.org/images/download_logo_32px.png\" />Download notebook</a>\n",
    "  </td>\n",
    "</table>"
   ]
  },
  {
   "cell_type": "markdown",
   "metadata": {
    "id": "LrHJrKYis06U"
   },
   "source": [
    "## Introduction\n",
    "\n",
    "NLP models often handle different languages with different character sets.  *Unicode* is a standard encoding system that is used to represent characters from almost all languages.  Every Unicode character is encoded using a unique integer [code point](https://en.wikipedia.org/wiki/Code_point) between `0` and `0x10FFFF`. A *Unicode string* is a sequence of zero or more code points.\n",
    "\n",
    "This tutorial shows how to represent Unicode strings in TensorFlow and manipulate them using Unicode equivalents of standard string ops. It separates Unicode strings into tokens based on script detection."
   ]
  },
  {
   "cell_type": "code",
   "execution_count": 2,
   "metadata": {
    "execution": {
     "iopub.execute_input": "2023-12-07T12:38:28.132599Z",
     "iopub.status.busy": "2023-12-07T12:38:28.132377Z",
     "iopub.status.idle": "2023-12-07T12:38:30.504375Z",
     "shell.execute_reply": "2023-12-07T12:38:30.503627Z"
    },
    "id": "OIKHl5Lvn4gh"
   },
   "outputs": [
    {
     "name": "stderr",
     "output_type": "stream",
     "text": [
      "2023-12-07 12:38:28.567493: E external/local_xla/xla/stream_executor/cuda/cuda_dnn.cc:9261] Unable to register cuDNN factory: Attempting to register factory for plugin cuDNN when one has already been registered\n",
      "2023-12-07 12:38:28.567537: E external/local_xla/xla/stream_executor/cuda/cuda_fft.cc:607] Unable to register cuFFT factory: Attempting to register factory for plugin cuFFT when one has already been registered\n",
      "2023-12-07 12:38:28.569152: E external/local_xla/xla/stream_executor/cuda/cuda_blas.cc:1515] Unable to register cuBLAS factory: Attempting to register factory for plugin cuBLAS when one has already been registered\n"
     ]
    }
   ],
   "source": [
    "import tensorflow as tf\n",
    "import numpy as np"
   ]
  },
  {
   "cell_type": "markdown",
   "metadata": {
    "id": "n-LkcI-vtWNj"
   },
   "source": [
    "## The `tf.string` data type\n",
    "\n",
    "The basic TensorFlow `tf.string` `dtype` allows you to build tensors of byte strings.\n",
    "Unicode strings are [utf-8](https://en.wikipedia.org/wiki/UTF-8) encoded by default."
   ]
  },
  {
   "cell_type": "code",
   "execution_count": 3,
   "metadata": {
    "execution": {
     "iopub.execute_input": "2023-12-07T12:38:30.509399Z",
     "iopub.status.busy": "2023-12-07T12:38:30.508967Z",
     "iopub.status.idle": "2023-12-07T12:38:32.776121Z",
     "shell.execute_reply": "2023-12-07T12:38:32.775470Z"
    },
    "id": "3yo-Qv6ntaFr"
   },
   "outputs": [
    {
     "data": {
      "text/plain": [
       "<tf.Tensor: shape=(), dtype=string, numpy=b'Thanks \\xf0\\x9f\\x98\\x8a'>"
      ]
     },
     "execution_count": 3,
     "metadata": {},
     "output_type": "execute_result"
    }
   ],
   "source": [
    "tf.constant(u\"Thanks 😊\")"
   ]
  },
  {
   "cell_type": "markdown",
   "metadata": {
    "id": "2kA1ziG2tyCT"
   },
   "source": [
    "A `tf.string` tensor treats byte strings as atomic units. This enables it to store byte strings of varying lengths. The string length is not included in the tensor dimensions.\n"
   ]
  },
  {
   "cell_type": "code",
   "execution_count": 4,
   "metadata": {
    "execution": {
     "iopub.execute_input": "2023-12-07T12:38:32.779522Z",
     "iopub.status.busy": "2023-12-07T12:38:32.779282Z",
     "iopub.status.idle": "2023-12-07T12:38:32.784131Z",
     "shell.execute_reply": "2023-12-07T12:38:32.783570Z"
    },
    "id": "eyINCmTztyyS"
   },
   "outputs": [
    {
     "data": {
      "text/plain": [
       "TensorShape([2])"
      ]
     },
     "execution_count": 4,
     "metadata": {},
     "output_type": "execute_result"
    }
   ],
   "source": [
    "tf.constant([u\"You're\", u\"welcome!\"]).shape"
   ]
  },
  {
   "cell_type": "markdown",
   "metadata": {
    "id": "jsMPnjb6UDJ1"
   },
   "source": [
    "If you use Python to construct strings, note that [string literals](https://docs.python.org/3/reference/lexical_analysis.html) are Unicode-encoded by default."
   ]
  },
  {
   "cell_type": "markdown",
   "metadata": {
    "id": "hUFZ7B1Lk-uj"
   },
   "source": [
    "## Representing Unicode\n",
    "\n",
    "There are two standard ways to represent a Unicode string in TensorFlow:\n",
    "\n",
    "* `string` scalar — where the sequence of code points is encoded using a known [character encoding](https://en.wikipedia.org/wiki/Character_encoding).\n",
    "* `int32` vector — where each position contains a single code point.\n",
    "\n",
    "For example, the following three values all represent the Unicode string `\"语言处理\"` (which means \"language processing\" in Chinese):"
   ]
  },
  {
   "cell_type": "code",
   "execution_count": 5,
   "metadata": {
    "execution": {
     "iopub.execute_input": "2023-12-07T12:38:32.787238Z",
     "iopub.status.busy": "2023-12-07T12:38:32.787001Z",
     "iopub.status.idle": "2023-12-07T12:38:32.791539Z",
     "shell.execute_reply": "2023-12-07T12:38:32.790898Z"
    },
    "id": "cjQIkfJWvC_u"
   },
   "outputs": [
    {
     "data": {
      "text/plain": [
       "<tf.Tensor: shape=(), dtype=string, numpy=b'\\xe8\\xaf\\xad\\xe8\\xa8\\x80\\xe5\\xa4\\x84\\xe7\\x90\\x86'>"
      ]
     },
     "execution_count": 5,
     "metadata": {},
     "output_type": "execute_result"
    }
   ],
   "source": [
    "# Unicode string, represented as a UTF-8 encoded string scalar.\n",
    "text_utf8 = tf.constant(u\"语言处理\")\n",
    "text_utf8"
   ]
  },
  {
   "cell_type": "code",
   "execution_count": 6,
   "metadata": {
    "execution": {
     "iopub.execute_input": "2023-12-07T12:38:32.794824Z",
     "iopub.status.busy": "2023-12-07T12:38:32.794075Z",
     "iopub.status.idle": "2023-12-07T12:38:32.799068Z",
     "shell.execute_reply": "2023-12-07T12:38:32.798524Z"
    },
    "id": "yQqcUECcvF2r"
   },
   "outputs": [
    {
     "data": {
      "text/plain": [
       "<tf.Tensor: shape=(), dtype=string, numpy=b'\\x8b\\xed\\x8a\\x00Y\\x04t\\x06'>"
      ]
     },
     "execution_count": 6,
     "metadata": {},
     "output_type": "execute_result"
    }
   ],
   "source": [
    "# Unicode string, represented as a UTF-16-BE encoded string scalar.\n",
    "text_utf16be = tf.constant(u\"语言处理\".encode(\"UTF-16-BE\"))\n",
    "text_utf16be"
   ]
  },
  {
   "cell_type": "code",
   "execution_count": 7,
   "metadata": {
    "execution": {
     "iopub.execute_input": "2023-12-07T12:38:32.801826Z",
     "iopub.status.busy": "2023-12-07T12:38:32.801554Z",
     "iopub.status.idle": "2023-12-07T12:38:32.807939Z",
     "shell.execute_reply": "2023-12-07T12:38:32.807370Z"
    },
    "id": "ExdBr1t7vMuS"
   },
   "outputs": [
    {
     "data": {
      "text/plain": [
       "<tf.Tensor: shape=(4,), dtype=int32, numpy=array([35821, 35328, 22788, 29702], dtype=int32)>"
      ]
     },
     "execution_count": 7,
     "metadata": {},
     "output_type": "execute_result"
    }
   ],
   "source": [
    "# Unicode string, represented as a vector of Unicode code points.\n",
    "text_chars = tf.constant([ord(char) for char in u\"语言处理\"])\n",
    "text_chars"
   ]
  },
  {
   "cell_type": "markdown",
   "metadata": {
    "id": "B8czv4JNpBnZ"
   },
   "source": [
    "### Converting between representations\n",
    "\n",
    "TensorFlow provides operations to convert between these different representations:\n",
    "\n",
    "* `tf.strings.unicode_decode`: Converts an encoded string scalar to a vector of code points.\n",
    "* `tf.strings.unicode_encode`: Converts a vector of code points to an encoded string scalar.\n",
    "* `tf.strings.unicode_transcode`: Converts an encoded string scalar to a different encoding."
   ]
  },
  {
   "cell_type": "code",
   "execution_count": 8,
   "metadata": {
    "execution": {
     "iopub.execute_input": "2023-12-07T12:38:32.810966Z",
     "iopub.status.busy": "2023-12-07T12:38:32.810713Z",
     "iopub.status.idle": "2023-12-07T12:38:32.817841Z",
     "shell.execute_reply": "2023-12-07T12:38:32.817289Z"
    },
    "id": "qb-UQ_oLpAJg"
   },
   "outputs": [
    {
     "data": {
      "text/plain": [
       "<tf.Tensor: shape=(4,), dtype=int32, numpy=array([35821, 35328, 22788, 29702], dtype=int32)>"
      ]
     },
     "execution_count": 8,
     "metadata": {},
     "output_type": "execute_result"
    }
   ],
   "source": [
    "tf.strings.unicode_decode(text_utf8,\n",
    "                          input_encoding='UTF-8')"
   ]
  },
  {
   "cell_type": "code",
   "execution_count": 9,
   "metadata": {
    "execution": {
     "iopub.execute_input": "2023-12-07T12:38:32.820655Z",
     "iopub.status.busy": "2023-12-07T12:38:32.820405Z",
     "iopub.status.idle": "2023-12-07T12:38:32.830916Z",
     "shell.execute_reply": "2023-12-07T12:38:32.830256Z"
    },
    "id": "kEBUcunnp-9n"
   },
   "outputs": [
    {
     "data": {
      "text/plain": [
       "<tf.Tensor: shape=(), dtype=string, numpy=b'\\xe8\\xaf\\xad\\xe8\\xa8\\x80\\xe5\\xa4\\x84\\xe7\\x90\\x86'>"
      ]
     },
     "execution_count": 9,
     "metadata": {},
     "output_type": "execute_result"
    }
   ],
   "source": [
    "tf.strings.unicode_encode(text_chars,\n",
    "                          output_encoding='UTF-8')"
   ]
  },
  {
   "cell_type": "code",
   "execution_count": 10,
   "metadata": {
    "execution": {
     "iopub.execute_input": "2023-12-07T12:38:32.833860Z",
     "iopub.status.busy": "2023-12-07T12:38:32.833428Z",
     "iopub.status.idle": "2023-12-07T12:38:32.838401Z",
     "shell.execute_reply": "2023-12-07T12:38:32.837806Z"
    },
    "id": "0MLhWcLZrph-"
   },
   "outputs": [
    {
     "data": {
      "text/plain": [
       "<tf.Tensor: shape=(), dtype=string, numpy=b'\\x8b\\xed\\x8a\\x00Y\\x04t\\x06'>"
      ]
     },
     "execution_count": 10,
     "metadata": {},
     "output_type": "execute_result"
    }
   ],
   "source": [
    "tf.strings.unicode_transcode(text_utf8,\n",
    "                             input_encoding='UTF8',\n",
    "                             output_encoding='UTF-16-BE')"
   ]
  },
  {
   "cell_type": "markdown",
   "metadata": {
    "id": "QVeLeVohqN7I"
   },
   "source": [
    "### Batch dimensions\n",
    "\n",
    "When decoding multiple strings, the number of characters in each string may not be equal.  The return result is a [`tf.RaggedTensor`](../../guide/ragged_tensor.ipynb), where the innermost dimension length varies depending on the number of characters in each string."
   ]
  },
  {
   "cell_type": "code",
   "execution_count": 11,
   "metadata": {
    "execution": {
     "iopub.execute_input": "2023-12-07T12:38:32.841395Z",
     "iopub.status.busy": "2023-12-07T12:38:32.841143Z",
     "iopub.status.idle": "2023-12-07T12:38:32.846416Z",
     "shell.execute_reply": "2023-12-07T12:38:32.845779Z"
    },
    "id": "N2jVzPymr_Mm"
   },
   "outputs": [
    {
     "name": "stdout",
     "output_type": "stream",
     "text": [
      "[104, 195, 108, 108, 111]\n",
      "[87, 104, 97, 116, 32, 105, 115, 32, 116, 104, 101, 32, 119, 101, 97, 116, 104, 101, 114, 32, 116, 111, 109, 111, 114, 114, 111, 119]\n",
      "[71, 246, 246, 100, 110, 105, 103, 104, 116]\n",
      "[128522]\n"
     ]
    }
   ],
   "source": [
    "# A batch of Unicode strings, each represented as a UTF8-encoded string.\n",
    "batch_utf8 = [s.encode('UTF-8') for s in\n",
    "              [u'hÃllo', u'What is the weather tomorrow', u'Göödnight', u'😊']]\n",
    "batch_chars_ragged = tf.strings.unicode_decode(batch_utf8,\n",
    "                                               input_encoding='UTF-8')\n",
    "for sentence_chars in batch_chars_ragged.to_list():\n",
    "  print(sentence_chars)"
   ]
  },
  {
   "cell_type": "markdown",
   "metadata": {
    "id": "iRh3n1hPsJ9v"
   },
   "source": [
    "You can use this `tf.RaggedTensor` directly, or convert it to a dense `tf.Tensor` with padding or a `tf.sparse.SparseTensor` using the methods `tf.RaggedTensor.to_tensor` and `tf.RaggedTensor.to_sparse`."
   ]
  },
  {
   "cell_type": "code",
   "execution_count": 12,
   "metadata": {
    "execution": {
     "iopub.execute_input": "2023-12-07T12:38:32.849293Z",
     "iopub.status.busy": "2023-12-07T12:38:32.849038Z",
     "iopub.status.idle": "2023-12-07T12:38:32.854842Z",
     "shell.execute_reply": "2023-12-07T12:38:32.854258Z"
    },
    "id": "yz17yeSMsUid"
   },
   "outputs": [
    {
     "name": "stdout",
     "output_type": "stream",
     "text": [
      "[[   104    195    108    108    111     -1     -1     -1     -1     -1\n",
      "      -1     -1     -1     -1     -1     -1     -1     -1     -1     -1\n",
      "      -1     -1     -1     -1     -1     -1     -1     -1]\n",
      " [    87    104     97    116     32    105    115     32    116    104\n",
      "     101     32    119    101     97    116    104    101    114     32\n",
      "     116    111    109    111    114    114    111    119]\n",
      " [    71    246    246    100    110    105    103    104    116     -1\n",
      "      -1     -1     -1     -1     -1     -1     -1     -1     -1     -1\n",
      "      -1     -1     -1     -1     -1     -1     -1     -1]\n",
      " [128522     -1     -1     -1     -1     -1     -1     -1     -1     -1\n",
      "      -1     -1     -1     -1     -1     -1     -1     -1     -1     -1\n",
      "      -1     -1     -1     -1     -1     -1     -1     -1]]\n"
     ]
    }
   ],
   "source": [
    "batch_chars_padded = batch_chars_ragged.to_tensor(default_value=-1)\n",
    "print(batch_chars_padded.numpy())"
   ]
  },
  {
   "cell_type": "code",
   "execution_count": 13,
   "metadata": {
    "execution": {
     "iopub.execute_input": "2023-12-07T12:38:32.857689Z",
     "iopub.status.busy": "2023-12-07T12:38:32.857472Z",
     "iopub.status.idle": "2023-12-07T12:38:32.863777Z",
     "shell.execute_reply": "2023-12-07T12:38:32.863199Z"
    },
    "id": "kBjsPQp3rhfm"
   },
   "outputs": [
    {
     "name": "stdout",
     "output_type": "stream",
     "text": [
      "[[   104,    195,    108,    108,    111,      _,      _,      _,      _,      _,      _,      _,      _,      _,      _,      _,      _,      _,      _,      _,      _,      _,      _,      _,      _,      _,      _,      _]\n",
      " [    87,    104,     97,    116,     32,    105,    115,     32,    116,    104,    101,     32,    119,    101,     97,    116,    104,    101,    114,     32,    116,    111,    109,    111,    114,    114,    111,    119]\n",
      " [    71,    246,    246,    100,    110,    105,    103,    104,    116,      _,      _,      _,      _,      _,      _,      _,      _,      _,      _,      _,      _,      _,      _,      _,      _,      _,      _,      _]\n",
      " [128522,      _,      _,      _,      _,      _,      _,      _,      _,      _,      _,      _,      _,      _,      _,      _,      _,      _,      _,      _,      _,      _,      _,      _,      _,      _,      _,      _]]\n"
     ]
    }
   ],
   "source": [
    "batch_chars_sparse = batch_chars_ragged.to_sparse()\n",
    "\n",
    "nrows, ncols = batch_chars_sparse.dense_shape.numpy()\n",
    "elements = [['_' for i in range(ncols)] for j in range(nrows)]\n",
    "for (row, col), value in zip(batch_chars_sparse.indices.numpy(), batch_chars_sparse.values.numpy()):\n",
    "  elements[row][col] = str(value)\n",
    "# max_width = max(len(value) for row in elements for value in row)\n",
    "value_lengths = []\n",
    "for row in elements:\n",
    "  for value in row:\n",
    "    value_lengths.append(len(value))\n",
    "max_width = max(value_lengths)\n",
    "print('[%s]' % '\\n '.join(\n",
    "    '[%s]' % ', '.join(value.rjust(max_width) for value in row)\n",
    "    for row in elements))"
   ]
  },
  {
   "cell_type": "markdown",
   "metadata": {
    "id": "GCCkZh-nwlbL"
   },
   "source": [
    "When encoding multiple strings with the same lengths, use a `tf.Tensor` as the input."
   ]
  },
  {
   "cell_type": "code",
   "execution_count": 14,
   "metadata": {
    "execution": {
     "iopub.execute_input": "2023-12-07T12:38:32.866699Z",
     "iopub.status.busy": "2023-12-07T12:38:32.866481Z",
     "iopub.status.idle": "2023-12-07T12:38:32.891215Z",
     "shell.execute_reply": "2023-12-07T12:38:32.890513Z"
    },
    "id": "_lP62YUAwjK9"
   },
   "outputs": [
    {
     "data": {
      "text/plain": [
       "<tf.Tensor: shape=(3,), dtype=string, numpy=array([b'cat', b'dog', b'cow'], dtype=object)>"
      ]
     },
     "execution_count": 14,
     "metadata": {},
     "output_type": "execute_result"
    }
   ],
   "source": [
    "tf.strings.unicode_encode([[99, 97, 116], [100, 111, 103], [99, 111, 119]],\n",
    "                          output_encoding='UTF-8')"
   ]
  },
  {
   "cell_type": "markdown",
   "metadata": {
    "id": "w58CMRg9tamW"
   },
   "source": [
    "When encoding multiple strings with varying length, use a `tf.RaggedTensor` as the input."
   ]
  },
  {
   "cell_type": "code",
   "execution_count": 15,
   "metadata": {
    "execution": {
     "iopub.execute_input": "2023-12-07T12:38:32.894487Z",
     "iopub.status.busy": "2023-12-07T12:38:32.894213Z",
     "iopub.status.idle": "2023-12-07T12:38:32.899048Z",
     "shell.execute_reply": "2023-12-07T12:38:32.898466Z"
    },
    "id": "d7GtOtrltaMl"
   },
   "outputs": [
    {
     "data": {
      "text/plain": [
       "<tf.Tensor: shape=(4,), dtype=string, numpy=\n",
       "array([b'h\\xc3\\x83llo', b'What is the weather tomorrow',\n",
       "       b'G\\xc3\\xb6\\xc3\\xb6dnight', b'\\xf0\\x9f\\x98\\x8a'], dtype=object)>"
      ]
     },
     "execution_count": 15,
     "metadata": {},
     "output_type": "execute_result"
    }
   ],
   "source": [
    "tf.strings.unicode_encode(batch_chars_ragged, output_encoding='UTF-8')"
   ]
  },
  {
   "cell_type": "markdown",
   "metadata": {
    "id": "T2Nh5Aj9xob3"
   },
   "source": [
    "If you have a tensor with multiple strings in padded or sparse format, convert it first into a `tf.RaggedTensor` before calling `tf.strings.unicode_encode`."
   ]
  },
  {
   "cell_type": "code",
   "execution_count": 16,
   "metadata": {
    "execution": {
     "iopub.execute_input": "2023-12-07T12:38:32.901903Z",
     "iopub.status.busy": "2023-12-07T12:38:32.901687Z",
     "iopub.status.idle": "2023-12-07T12:38:33.268228Z",
     "shell.execute_reply": "2023-12-07T12:38:33.267587Z"
    },
    "id": "R2bYCYl0u-Ue"
   },
   "outputs": [
    {
     "data": {
      "text/plain": [
       "<tf.Tensor: shape=(4,), dtype=string, numpy=\n",
       "array([b'h\\xc3\\x83llo', b'What is the weather tomorrow',\n",
       "       b'G\\xc3\\xb6\\xc3\\xb6dnight', b'\\xf0\\x9f\\x98\\x8a'], dtype=object)>"
      ]
     },
     "execution_count": 16,
     "metadata": {},
     "output_type": "execute_result"
    }
   ],
   "source": [
    "tf.strings.unicode_encode(\n",
    "    tf.RaggedTensor.from_sparse(batch_chars_sparse),\n",
    "    output_encoding='UTF-8')"
   ]
  },
  {
   "cell_type": "code",
   "execution_count": 17,
   "metadata": {
    "execution": {
     "iopub.execute_input": "2023-12-07T12:38:33.271588Z",
     "iopub.status.busy": "2023-12-07T12:38:33.271306Z",
     "iopub.status.idle": "2023-12-07T12:38:34.055961Z",
     "shell.execute_reply": "2023-12-07T12:38:34.055300Z"
    },
    "id": "UlV2znh_u_zm"
   },
   "outputs": [
    {
     "data": {
      "text/plain": [
       "<tf.Tensor: shape=(4,), dtype=string, numpy=\n",
       "array([b'h\\xc3\\x83llo', b'What is the weather tomorrow',\n",
       "       b'G\\xc3\\xb6\\xc3\\xb6dnight', b'\\xf0\\x9f\\x98\\x8a'], dtype=object)>"
      ]
     },
     "execution_count": 17,
     "metadata": {},
     "output_type": "execute_result"
    }
   ],
   "source": [
    "tf.strings.unicode_encode(\n",
    "    tf.RaggedTensor.from_tensor(batch_chars_padded, padding=-1),\n",
    "    output_encoding='UTF-8')"
   ]
  },
  {
   "cell_type": "markdown",
   "metadata": {
    "id": "hQOOGkscvDpc"
   },
   "source": [
    "## Unicode operations"
   ]
  },
  {
   "cell_type": "markdown",
   "metadata": {
    "id": "NkmtsA_yvMB0"
   },
   "source": [
    "### Character length\n",
    "\n",
    "Use the `unit` parameter of the `tf.strings.length` op to indicate how character lengths should be computed.  `unit` defaults to `\"BYTE\"`, but it can be set to other values, such as `\"UTF8_CHAR\"` or `\"UTF16_CHAR\"`, to determine the number of Unicode codepoints in each encoded string."
   ]
  },
  {
   "cell_type": "code",
   "execution_count": 18,
   "metadata": {
    "execution": {
     "iopub.execute_input": "2023-12-07T12:38:34.059408Z",
     "iopub.status.busy": "2023-12-07T12:38:34.059116Z",
     "iopub.status.idle": "2023-12-07T12:38:34.065372Z",
     "shell.execute_reply": "2023-12-07T12:38:34.064756Z"
    },
    "id": "1ZzMe59mvLHr"
   },
   "outputs": [
    {
     "name": "stdout",
     "output_type": "stream",
     "text": [
      "11 bytes; 8 UTF-8 characters\n"
     ]
    }
   ],
   "source": [
    "# Note that the final character takes up 4 bytes in UTF8.\n",
    "thanks = u'Thanks 😊'.encode('UTF-8')\n",
    "num_bytes = tf.strings.length(thanks).numpy()\n",
    "num_chars = tf.strings.length(thanks, unit='UTF8_CHAR').numpy()\n",
    "print('{} bytes; {} UTF-8 characters'.format(num_bytes, num_chars))"
   ]
  },
  {
   "cell_type": "markdown",
   "metadata": {
    "id": "fHG85gxlvVU0"
   },
   "source": [
    "### Character substrings\n",
    "\n",
    "The `tf.strings.substr` op accepts the `unit` parameter, and uses it to determine what kind of offsets the `pos` and `len` paremeters contain."
   ]
  },
  {
   "cell_type": "code",
   "execution_count": 19,
   "metadata": {
    "execution": {
     "iopub.execute_input": "2023-12-07T12:38:34.068550Z",
     "iopub.status.busy": "2023-12-07T12:38:34.068301Z",
     "iopub.status.idle": "2023-12-07T12:38:34.073676Z",
     "shell.execute_reply": "2023-12-07T12:38:34.073081Z"
    },
    "id": "WlWRLV-4xWYq"
   },
   "outputs": [
    {
     "data": {
      "text/plain": [
       "b'\\xf0'"
      ]
     },
     "execution_count": 19,
     "metadata": {},
     "output_type": "execute_result"
    }
   ],
   "source": [
    "# Here, unit='BYTE' (default). Returns a single byte with len=1\n",
    "tf.strings.substr(thanks, pos=7, len=1).numpy()"
   ]
  },
  {
   "cell_type": "code",
   "execution_count": 20,
   "metadata": {
    "execution": {
     "iopub.execute_input": "2023-12-07T12:38:34.076543Z",
     "iopub.status.busy": "2023-12-07T12:38:34.076306Z",
     "iopub.status.idle": "2023-12-07T12:38:34.080509Z",
     "shell.execute_reply": "2023-12-07T12:38:34.079906Z"
    },
    "id": "JfNUVDPwxkCS"
   },
   "outputs": [
    {
     "name": "stdout",
     "output_type": "stream",
     "text": [
      "b'\\xf0\\x9f\\x98\\x8a'\n"
     ]
    }
   ],
   "source": [
    "# Specifying unit='UTF8_CHAR', returns a single 4 byte character in this case\n",
    "print(tf.strings.substr(thanks, pos=7, len=1, unit='UTF8_CHAR').numpy())"
   ]
  },
  {
   "cell_type": "markdown",
   "metadata": {
    "id": "zJUEsVSyeIa3"
   },
   "source": [
    "### Split Unicode strings\n",
    "\n",
    "The `tf.strings.unicode_split` operation splits unicode strings into substrings of individual characters."
   ]
  },
  {
   "cell_type": "code",
   "execution_count": 21,
   "metadata": {
    "execution": {
     "iopub.execute_input": "2023-12-07T12:38:34.083630Z",
     "iopub.status.busy": "2023-12-07T12:38:34.083403Z",
     "iopub.status.idle": "2023-12-07T12:38:34.092878Z",
     "shell.execute_reply": "2023-12-07T12:38:34.092288Z"
    },
    "id": "dDjkh5G1ejMt"
   },
   "outputs": [
    {
     "data": {
      "text/plain": [
       "array([b'T', b'h', b'a', b'n', b'k', b's', b' ', b'\\xf0\\x9f\\x98\\x8a'],\n",
       "      dtype=object)"
      ]
     },
     "execution_count": 21,
     "metadata": {},
     "output_type": "execute_result"
    }
   ],
   "source": [
    "tf.strings.unicode_split(thanks, 'UTF-8').numpy()"
   ]
  },
  {
   "cell_type": "markdown",
   "metadata": {
    "id": "HQqEEZEbdG9O"
   },
   "source": [
    "### Byte offsets for characters\n",
    "\n",
    "To align the character tensor generated by `tf.strings.unicode_decode` with the original string, it's useful to know the offset for where each character begins.  The method `tf.strings.unicode_decode_with_offsets` is similar to `unicode_decode`, except that it returns a second tensor containing the start offset of each character."
   ]
  },
  {
   "cell_type": "code",
   "execution_count": 22,
   "metadata": {
    "execution": {
     "iopub.execute_input": "2023-12-07T12:38:34.095818Z",
     "iopub.status.busy": "2023-12-07T12:38:34.095587Z",
     "iopub.status.idle": "2023-12-07T12:38:34.101154Z",
     "shell.execute_reply": "2023-12-07T12:38:34.100470Z"
    },
    "id": "Cug7cmwYdowd"
   },
   "outputs": [
    {
     "name": "stdout",
     "output_type": "stream",
     "text": [
      "At byte offset 0: codepoint 127880\n",
      "At byte offset 4: codepoint 127881\n",
      "At byte offset 8: codepoint 127882\n"
     ]
    }
   ],
   "source": [
    "codepoints, offsets = tf.strings.unicode_decode_with_offsets(u'🎈🎉🎊', 'UTF-8')\n",
    "\n",
    "for (codepoint, offset) in zip(codepoints.numpy(), offsets.numpy()):\n",
    "  print('At byte offset {}: codepoint {}'.format(offset, codepoint))"
   ]
  },
  {
   "cell_type": "markdown",
   "metadata": {
    "id": "2ZnCNxOvx66T"
   },
   "source": [
    "## Unicode scripts"
   ]
  },
  {
   "cell_type": "markdown",
   "metadata": {
    "id": "nRRHqkqNyGZ6"
   },
   "source": [
    "Each Unicode code point belongs to a single collection of codepoints known as a [script](https://en.wikipedia.org/wiki/Script_%28Unicode%29) .  A character's script is helpful in determining which language the character might be in. For example, knowing that 'Б' is in Cyrillic script indicates that modern text containing that character is likely from a Slavic language such as Russian or Ukrainian.\n",
    "\n",
    "TensorFlow provides the `tf.strings.unicode_script` operation to determine which script a given codepoint uses. The script codes are `int32` values corresponding to [International Components for\n",
    "Unicode](http://site.icu-project.org/home) (ICU) [`UScriptCode`](http://icu-project.org/apiref/icu4c/uscript_8h.html) values.\n"
   ]
  },
  {
   "cell_type": "code",
   "execution_count": 23,
   "metadata": {
    "execution": {
     "iopub.execute_input": "2023-12-07T12:38:34.104533Z",
     "iopub.status.busy": "2023-12-07T12:38:34.104280Z",
     "iopub.status.idle": "2023-12-07T12:38:34.108767Z",
     "shell.execute_reply": "2023-12-07T12:38:34.108147Z"
    },
    "id": "K7DeYHrRyFPy"
   },
   "outputs": [
    {
     "name": "stdout",
     "output_type": "stream",
     "text": [
      "[17  8]\n"
     ]
    }
   ],
   "source": [
    "uscript = tf.strings.unicode_script([33464, 1041])  # ['芸', 'Б']\n",
    "\n",
    "print(uscript.numpy())  # [17, 8] == [USCRIPT_HAN, USCRIPT_CYRILLIC]"
   ]
  },
  {
   "cell_type": "markdown",
   "metadata": {
    "id": "2fW992a1lIY6"
   },
   "source": [
    "The `tf.strings.unicode_script` operation can also be applied to multidimensional `tf.Tensor`s or `tf.RaggedTensor`s of codepoints:"
   ]
  },
  {
   "cell_type": "code",
   "execution_count": 24,
   "metadata": {
    "execution": {
     "iopub.execute_input": "2023-12-07T12:38:34.111933Z",
     "iopub.status.busy": "2023-12-07T12:38:34.111683Z",
     "iopub.status.idle": "2023-12-07T12:38:34.115831Z",
     "shell.execute_reply": "2023-12-07T12:38:34.115226Z"
    },
    "id": "uR7b8meLlFnp"
   },
   "outputs": [
    {
     "name": "stdout",
     "output_type": "stream",
     "text": [
      "<tf.RaggedTensor [[25, 25, 25, 25, 25],\n",
      " [25, 25, 25, 25, 0, 25, 25, 0, 25, 25, 25, 0, 25, 25, 25, 25, 25, 25, 25,\n",
      "  0, 25, 25, 25, 25, 25, 25, 25, 25]                                      ,\n",
      " [25, 25, 25, 25, 25, 25, 25, 25, 25], [0]]>\n"
     ]
    }
   ],
   "source": [
    "print(tf.strings.unicode_script(batch_chars_ragged))"
   ]
  },
  {
   "cell_type": "markdown",
   "metadata": {
    "id": "mx7HEFpBzEsB"
   },
   "source": [
    "## Example: Simple segmentation\n",
    "\n",
    "Segmentation is the task of splitting text into word-like units. This is often easy when space characters are used to separate words, but some languages (like Chinese and Japanese) do not use spaces, and some languages (like German) contain long compounds that must be split in order to analyze their meaning. In web text, different languages and scripts are frequently mixed together, as in \"NY株価\" (New York Stock Exchange).\n",
    "\n",
    "We can perform very rough segmentation (without implementing any ML models) by using changes in script to approximate word boundaries. This will work for strings like the \"NY株価\" example above. It will also work for most languages that use spaces, as the space characters of various scripts are all classified as USCRIPT_COMMON, a special script code that differs from that of any actual text."
   ]
  },
  {
   "cell_type": "code",
   "execution_count": 25,
   "metadata": {
    "execution": {
     "iopub.execute_input": "2023-12-07T12:38:34.118700Z",
     "iopub.status.busy": "2023-12-07T12:38:34.118466Z",
     "iopub.status.idle": "2023-12-07T12:38:34.121529Z",
     "shell.execute_reply": "2023-12-07T12:38:34.120869Z"
    },
    "id": "grsvFiC4BoPb"
   },
   "outputs": [],
   "source": [
    "# dtype: string; shape: [num_sentences]\n",
    "#\n",
    "# The sentences to process.  Edit this line to try out different inputs!\n",
    "sentence_texts = [u'Hello, world.', u'世界こんにちは']"
   ]
  },
  {
   "cell_type": "markdown",
   "metadata": {
    "id": "CapnbShuGU8i"
   },
   "source": [
    "First, decode the sentences into character codepoints, and find the script identifeir for each character."
   ]
  },
  {
   "cell_type": "code",
   "execution_count": 26,
   "metadata": {
    "execution": {
     "iopub.execute_input": "2023-12-07T12:38:34.124437Z",
     "iopub.status.busy": "2023-12-07T12:38:34.124202Z",
     "iopub.status.idle": "2023-12-07T12:38:34.129495Z",
     "shell.execute_reply": "2023-12-07T12:38:34.128868Z"
    },
    "id": "ReQVcDQh1MB8"
   },
   "outputs": [
    {
     "name": "stdout",
     "output_type": "stream",
     "text": [
      "<tf.RaggedTensor [[72, 101, 108, 108, 111, 44, 32, 119, 111, 114, 108, 100, 46],\n",
      " [19990, 30028, 12371, 12435, 12395, 12385, 12399]]>\n",
      "<tf.RaggedTensor [[25, 25, 25, 25, 25, 0, 0, 25, 25, 25, 25, 25, 0],\n",
      " [17, 17, 20, 20, 20, 20, 20]]>\n"
     ]
    }
   ],
   "source": [
    "# dtype: int32; shape: [num_sentences, (num_chars_per_sentence)]\n",
    "#\n",
    "# sentence_char_codepoint[i, j] is the codepoint for the j'th character in\n",
    "# the i'th sentence.\n",
    "sentence_char_codepoint = tf.strings.unicode_decode(sentence_texts, 'UTF-8')\n",
    "print(sentence_char_codepoint)\n",
    "\n",
    "# dtype: int32; shape: [num_sentences, (num_chars_per_sentence)]\n",
    "#\n",
    "# sentence_char_scripts[i, j] is the Unicode script of the j'th character in\n",
    "# the i'th sentence.\n",
    "sentence_char_script = tf.strings.unicode_script(sentence_char_codepoint)\n",
    "print(sentence_char_script)"
   ]
  },
  {
   "cell_type": "markdown",
   "metadata": {
    "id": "O2fapF5UGcUc"
   },
   "source": [
    "Use the script identifiers to determine where word boundaries should be added.  Add a word boundary at the beginning of each sentence, and for each character whose script differs from the previous character."
   ]
  },
  {
   "cell_type": "code",
   "execution_count": 27,
   "metadata": {
    "execution": {
     "iopub.execute_input": "2023-12-07T12:38:34.132405Z",
     "iopub.status.busy": "2023-12-07T12:38:34.132181Z",
     "iopub.status.idle": "2023-12-07T12:38:34.222680Z",
     "shell.execute_reply": "2023-12-07T12:38:34.221995Z"
    },
    "id": "7v5W6MOr1Rlc"
   },
   "outputs": [
    {
     "name": "stdout",
     "output_type": "stream",
     "text": [
      "tf.Tensor([ 0  5  7 12 13 15], shape=(6,), dtype=int64)\n"
     ]
    }
   ],
   "source": [
    "# dtype: bool; shape: [num_sentences, (num_chars_per_sentence)]\n",
    "#\n",
    "# sentence_char_starts_word[i, j] is True if the j'th character in the i'th\n",
    "# sentence is the start of a word.\n",
    "sentence_char_starts_word = tf.concat(\n",
    "    [tf.fill([sentence_char_script.nrows(), 1], True),\n",
    "     tf.not_equal(sentence_char_script[:, 1:], sentence_char_script[:, :-1])],\n",
    "    axis=1)\n",
    "\n",
    "# dtype: int64; shape: [num_words]\n",
    "#\n",
    "# word_starts[i] is the index of the character that starts the i'th word (in\n",
    "# the flattened list of characters from all sentences).\n",
    "word_starts = tf.squeeze(tf.where(sentence_char_starts_word.values), axis=1)\n",
    "print(word_starts)"
   ]
  },
  {
   "cell_type": "markdown",
   "metadata": {
    "id": "LAwh-1QkGuC9"
   },
   "source": [
    "You can then use those start offsets to build a `RaggedTensor` containing the list of words from all batches."
   ]
  },
  {
   "cell_type": "code",
   "execution_count": 28,
   "metadata": {
    "execution": {
     "iopub.execute_input": "2023-12-07T12:38:34.225657Z",
     "iopub.status.busy": "2023-12-07T12:38:34.225407Z",
     "iopub.status.idle": "2023-12-07T12:38:34.235104Z",
     "shell.execute_reply": "2023-12-07T12:38:34.234467Z"
    },
    "id": "bNiA1O_eBBCL"
   },
   "outputs": [
    {
     "name": "stdout",
     "output_type": "stream",
     "text": [
      "<tf.RaggedTensor [[72, 101, 108, 108, 111], [44, 32], [119, 111, 114, 108, 100], [46],\n",
      " [19990, 30028], [12371, 12435, 12395, 12385, 12399]]>\n"
     ]
    }
   ],
   "source": [
    "# dtype: int32; shape: [num_words, (num_chars_per_word)]\n",
    "#\n",
    "# word_char_codepoint[i, j] is the codepoint for the j'th character in the\n",
    "# i'th word.\n",
    "word_char_codepoint = tf.RaggedTensor.from_row_starts(\n",
    "    values=sentence_char_codepoint.values,\n",
    "    row_starts=word_starts)\n",
    "print(word_char_codepoint)"
   ]
  },
  {
   "cell_type": "markdown",
   "metadata": {
    "id": "66a2ZnYmG2ao"
   },
   "source": [
    "To finish, segment the word codepoints `RaggedTensor` back into sentences and encode into UTF-8 strings for readability."
   ]
  },
  {
   "cell_type": "code",
   "execution_count": 29,
   "metadata": {
    "execution": {
     "iopub.execute_input": "2023-12-07T12:38:34.238338Z",
     "iopub.status.busy": "2023-12-07T12:38:34.238095Z",
     "iopub.status.idle": "2023-12-07T12:38:34.256837Z",
     "shell.execute_reply": "2023-12-07T12:38:34.256249Z"
    },
    "id": "NCfwcqLSEjZb"
   },
   "outputs": [
    {
     "name": "stdout",
     "output_type": "stream",
     "text": [
      "<tf.RaggedTensor [[[72, 101, 108, 108, 111], [44, 32], [119, 111, 114, 108, 100], [46]],\n",
      " [[19990, 30028], [12371, 12435, 12395, 12385, 12399]]]>\n"
     ]
    },
    {
     "data": {
      "text/plain": [
       "[[b'Hello', b', ', b'world', b'.'],\n",
       " [b'\\xe4\\xb8\\x96\\xe7\\x95\\x8c',\n",
       "  b'\\xe3\\x81\\x93\\xe3\\x82\\x93\\xe3\\x81\\xab\\xe3\\x81\\xa1\\xe3\\x81\\xaf']]"
      ]
     },
     "execution_count": 29,
     "metadata": {},
     "output_type": "execute_result"
    }
   ],
   "source": [
    "# dtype: int64; shape: [num_sentences]\n",
    "#\n",
    "# sentence_num_words[i] is the number of words in the i'th sentence.\n",
    "sentence_num_words = tf.reduce_sum(\n",
    "    tf.cast(sentence_char_starts_word, tf.int64),\n",
    "    axis=1)\n",
    "\n",
    "# dtype: int32; shape: [num_sentences, (num_words_per_sentence), (num_chars_per_word)]\n",
    "#\n",
    "# sentence_word_char_codepoint[i, j, k] is the codepoint for the k'th character\n",
    "# in the j'th word in the i'th sentence.\n",
    "sentence_word_char_codepoint = tf.RaggedTensor.from_row_lengths(\n",
    "    values=word_char_codepoint,\n",
    "    row_lengths=sentence_num_words)\n",
    "print(sentence_word_char_codepoint)\n",
    "\n",
    "tf.strings.unicode_encode(sentence_word_char_codepoint, 'UTF-8').to_list()"
   ]
  }
 ],
 "metadata": {
  "colab": {
   "collapsed_sections": [
    "oL9KopJirB2g"
   ],
   "name": "unicode.ipynb",
   "toc_visible": true
  },
  "kernelspec": {
   "display_name": "Python 3",
   "name": "python3"
  },
  "language_info": {
   "codemirror_mode": {
    "name": "ipython",
    "version": 3
   },
   "file_extension": ".py",
   "mimetype": "text/x-python",
   "name": "python",
   "nbconvert_exporter": "python",
   "pygments_lexer": "ipython3",
   "version": "3.9.18"
  }
 },
 "nbformat": 4,
 "nbformat_minor": 0
}
