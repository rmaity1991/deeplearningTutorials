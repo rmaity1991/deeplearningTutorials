{
  "cells": [
    {
      "cell_type": "markdown",
      "metadata": {
        "id": "10vJdJEPHATy"
      },
      "source": [
        "# Customizing Saving and Serialization\n",
        "\n",
        "**Author:** Neel Kovelamudi<br>\n",
        "**Date created:** 2023/03/15<br>\n",
        "**Last modified:** 2023/03/15<br>\n",
        "**Description:** A more advanced guide on customizing saving for your layers and models."
      ]
    },
    {
      "cell_type": "markdown",
      "metadata": {
        "id": "qvk-yWj0HAT4"
      },
      "source": [
        "## Introduction\n",
        "\n",
        "This guide covers advanced methods that can be customized in Keras saving. For most\n",
        "users, the methods outlined in the primary\n",
        "[Serialize, save, and export guide](https://keras.io/guides/serialization_and_saving)\n",
        "are sufficient."
      ]
    },
    {
      "cell_type": "markdown",
      "metadata": {
        "id": "aiWgjTaCHAT5"
      },
      "source": [
        "### APIs\n",
        "We will cover the following APIs:\n",
        "\n",
        "- `save_assets()` and `load_assets()`\n",
        "- `save_own_variables()` and `load_own_variables()`\n",
        "- `get_build_config()` and `build_from_config()`\n",
        "- `get_compile_config()` and `compile_from_config()`\n",
        "\n",
        "When restoring a model, these get executed in the following order:\n",
        "\n",
        "- `build_from_config()`\n",
        "- `compile_from_config()`\n",
        "- `load_own_variables()`\n",
        "- `load_assets()`"
      ]
    },
    {
      "cell_type": "markdown",
      "metadata": {
        "id": "FY5TYQr5HAT6"
      },
      "source": [
        "## Setup"
      ]
    },
    {
      "cell_type": "code",
      "execution_count": null,
      "metadata": {
        "id": "FKeU2g1GHAT6"
      },
      "outputs": [],
      "source": [
        "import os\n",
        "import numpy as np\n",
        "import keras"
      ]
    },
    {
      "cell_type": "markdown",
      "metadata": {
        "id": "HpdNHjGlHAT8"
      },
      "source": [
        "## State saving customization\n",
        "\n",
        "These methods determine how the state of your model's layers is saved when calling\n",
        "`model.save()`. You can override them to take full control of the state saving process."
      ]
    },
    {
      "cell_type": "markdown",
      "metadata": {
        "id": "fJZ7dDpOHAT9"
      },
      "source": [
        "### `save_own_variables()` and `load_own_variables()`\n",
        "\n",
        "These methods save and load the state variables of the layer when `model.save()` and\n",
        "`keras.models.load_model()` are called, respectively. By default, the state variables\n",
        "saved and loaded are the weights of the layer (both trainable and non-trainable). Here is\n",
        "the default implementation of `save_own_variables()`:\n",
        "\n",
        "```python\n",
        "def save_own_variables(self, store):\n",
        "    all_vars = self._trainable_weights + self._non_trainable_weights\n",
        "    for i, v in enumerate(all_vars):\n",
        "        store[f\"{i}\"] = v.numpy()\n",
        "```\n",
        "\n",
        "The store used by these methods is a dictionary that can be populated with the layer\n",
        "variables. Let's take a look at an example customizing this.\n",
        "\n",
        "**Example:**"
      ]
    },
    {
      "cell_type": "code",
      "execution_count": null,
      "metadata": {
        "id": "BFgDPqs4HAT9"
      },
      "outputs": [],
      "source": [
        "\n",
        "@keras.utils.register_keras_serializable(package=\"my_custom_package\")\n",
        "class LayerWithCustomVariable(keras.layers.Dense):\n",
        "    def __init__(self, units, **kwargs):\n",
        "        super().__init__(units, **kwargs)\n",
        "        self.my_variable = keras.Variable(\n",
        "            np.random.random((units,)), name=\"my_variable\", dtype=\"float32\"\n",
        "        )\n",
        "\n",
        "    def save_own_variables(self, store):\n",
        "        super().save_own_variables(store)\n",
        "        # Stores the value of the variable upon saving\n",
        "        store[\"variables\"] = self.my_variable.numpy()\n",
        "\n",
        "    def load_own_variables(self, store):\n",
        "        # Assigns the value of the variable upon loading\n",
        "        self.my_variable.assign(store[\"variables\"])\n",
        "        # Load the remaining weights\n",
        "        for i, v in enumerate(self.weights):\n",
        "            v.assign(store[f\"{i}\"])\n",
        "        # Note: You must specify how all variables (including layer weights)\n",
        "        # are loaded in `load_own_variables.`\n",
        "\n",
        "    def call(self, inputs):\n",
        "        dense_out = super().call(inputs)\n",
        "        return dense_out + self.my_variable\n",
        "\n",
        "\n",
        "model = keras.Sequential([LayerWithCustomVariable(1)])\n",
        "\n",
        "ref_input = np.random.random((8, 10))\n",
        "ref_output = np.random.random((8, 10))\n",
        "model.compile(optimizer=\"adam\", loss=\"mean_squared_error\")\n",
        "model.fit(ref_input, ref_output)\n",
        "\n",
        "model.save(\"custom_vars_model.keras\")\n",
        "restored_model = keras.models.load_model(\"custom_vars_model.keras\")\n",
        "\n",
        "np.testing.assert_allclose(\n",
        "    model.layers[0].my_variable.numpy(),\n",
        "    restored_model.layers[0].my_variable.numpy(),\n",
        ")"
      ]
    },
    {
      "cell_type": "markdown",
      "metadata": {
        "id": "IOfHSlM2HAT-"
      },
      "source": [
        "### `save_assets()` and `load_assets()`\n",
        "\n",
        "These methods can be added to your model class definition to store and load any\n",
        "additional information that your model needs.\n",
        "\n",
        "For example, NLP domain layers such as TextVectorization layers and IndexLookup layers\n",
        "may need to store their associated vocabulary (or lookup table) in a text file upon\n",
        "saving.\n",
        "\n",
        "Let's take at the basics of this workflow with a simple file `assets.txt`.\n",
        "\n",
        "**Example:**"
      ]
    },
    {
      "cell_type": "code",
      "execution_count": null,
      "metadata": {
        "id": "veMjQK4oHAT_"
      },
      "outputs": [],
      "source": [
        "\n",
        "@keras.saving.register_keras_serializable(package=\"my_custom_package\")\n",
        "class LayerWithCustomAssets(keras.layers.Dense):\n",
        "    def __init__(self, vocab=None, *args, **kwargs):\n",
        "        super().__init__(*args, **kwargs)\n",
        "        self.vocab = vocab\n",
        "\n",
        "    def save_assets(self, inner_path):\n",
        "        # Writes the vocab (sentence) to text file at save time.\n",
        "        with open(os.path.join(inner_path, \"vocabulary.txt\"), \"w\") as f:\n",
        "            f.write(self.vocab)\n",
        "\n",
        "    def load_assets(self, inner_path):\n",
        "        # Reads the vocab (sentence) from text file at load time.\n",
        "        with open(os.path.join(inner_path, \"vocabulary.txt\"), \"r\") as f:\n",
        "            text = f.read()\n",
        "        self.vocab = text.replace(\"<unk>\", \"little\")\n",
        "\n",
        "\n",
        "model = keras.Sequential(\n",
        "    [LayerWithCustomAssets(vocab=\"Mary had a <unk> lamb.\", units=5)]\n",
        ")\n",
        "\n",
        "x = np.random.random((10, 10))\n",
        "y = model(x)\n",
        "\n",
        "model.save(\"custom_assets_model.keras\")\n",
        "restored_model = keras.models.load_model(\"custom_assets_model.keras\")\n",
        "\n",
        "np.testing.assert_string_equal(\n",
        "    restored_model.layers[0].vocab, \"Mary had a little lamb.\"\n",
        ")"
      ]
    },
    {
      "cell_type": "markdown",
      "metadata": {
        "id": "5tCVARD5HAT_"
      },
      "source": [
        "## `build` and `compile` saving customization\n",
        "\n",
        "### `get_build_config()` and `build_from_config()`\n",
        "\n",
        "These methods work together to save the layer's built states and restore them upon\n",
        "loading.\n",
        "\n",
        "By default, this only includes a build config dictionary with the layer's input shape,\n",
        "but overriding these methods can be used to include further Variables and Lookup Tables\n",
        "that can be useful to restore for your built model.\n",
        "\n",
        "**Example:**"
      ]
    },
    {
      "cell_type": "code",
      "execution_count": null,
      "metadata": {
        "id": "cOwfksJJHAT_"
      },
      "outputs": [],
      "source": [
        "\n",
        "@keras.saving.register_keras_serializable(package=\"my_custom_package\")\n",
        "class LayerWithCustomBuild(keras.layers.Layer):\n",
        "    def __init__(self, units=32, **kwargs):\n",
        "        super().__init__(**kwargs)\n",
        "        self.units = units\n",
        "\n",
        "    def call(self, inputs):\n",
        "        return keras.ops.matmul(inputs, self.w) + self.b\n",
        "\n",
        "    def get_config(self):\n",
        "        return dict(units=self.units, **super().get_config())\n",
        "\n",
        "    def build(self, input_shape, layer_init):\n",
        "        # Note the overriding of `build()` to add an extra argument.\n",
        "        # Therefore, we will need to manually call build with `layer_init` argument\n",
        "        # before the first execution of `call()`.\n",
        "        super().build(input_shape)\n",
        "        self._input_shape = input_shape\n",
        "        self.w = self.add_weight(\n",
        "            shape=(input_shape[-1], self.units),\n",
        "            initializer=layer_init,\n",
        "            trainable=True,\n",
        "        )\n",
        "        self.b = self.add_weight(\n",
        "            shape=(self.units,),\n",
        "            initializer=layer_init,\n",
        "            trainable=True,\n",
        "        )\n",
        "        self.layer_init = layer_init\n",
        "\n",
        "    def get_build_config(self):\n",
        "        build_config = {\n",
        "            \"layer_init\": self.layer_init,\n",
        "            \"input_shape\": self._input_shape,\n",
        "        }  # Stores our initializer for `build()`\n",
        "        return build_config\n",
        "\n",
        "    def build_from_config(self, config):\n",
        "        # Calls `build()` with the parameters at loading time\n",
        "        self.build(config[\"input_shape\"], config[\"layer_init\"])\n",
        "\n",
        "\n",
        "custom_layer = LayerWithCustomBuild(units=16)\n",
        "custom_layer.build(input_shape=(8,), layer_init=\"random_normal\")\n",
        "\n",
        "model = keras.Sequential(\n",
        "    [\n",
        "        custom_layer,\n",
        "        keras.layers.Dense(1, activation=\"sigmoid\"),\n",
        "    ]\n",
        ")\n",
        "\n",
        "x = np.random.random((16, 8))\n",
        "y = model(x)\n",
        "\n",
        "model.save(\"custom_build_model.keras\")\n",
        "restored_model = keras.models.load_model(\"custom_build_model.keras\")\n",
        "\n",
        "np.testing.assert_equal(restored_model.layers[0].layer_init, \"random_normal\")\n",
        "np.testing.assert_equal(restored_model.built, True)"
      ]
    },
    {
      "cell_type": "markdown",
      "metadata": {
        "id": "6TQw51bjHAUA"
      },
      "source": [
        "### `get_compile_config()` and `compile_from_config()`\n",
        "\n",
        "These methods work together to save the information with which the model was compiled\n",
        "(optimizers, losses, etc.) and restore and re-compile the model with this information.\n",
        "\n",
        "Overriding these methods can be useful for compiling the restored model with custom\n",
        "optimizers, custom losses, etc., as these will need to be deserialized prior to calling\n",
        "`model.compile` in `compile_from_config()`.\n",
        "\n",
        "Let's take a look at an example of this.\n",
        "\n",
        "**Example:**"
      ]
    },
    {
      "cell_type": "code",
      "execution_count": null,
      "metadata": {
        "id": "fc3orAdQHAUA"
      },
      "outputs": [],
      "source": [
        "\n",
        "@keras.saving.register_keras_serializable(package=\"my_custom_package\")\n",
        "def small_square_sum_loss(y_true, y_pred):\n",
        "    loss = keras.ops.square(y_pred - y_true)\n",
        "    loss = loss / 10.0\n",
        "    loss = keras.ops.sum(loss, axis=1)\n",
        "    return loss\n",
        "\n",
        "\n",
        "@keras.saving.register_keras_serializable(package=\"my_custom_package\")\n",
        "def mean_pred(y_true, y_pred):\n",
        "    return keras.ops.mean(y_pred)\n",
        "\n",
        "\n",
        "@keras.saving.register_keras_serializable(package=\"my_custom_package\")\n",
        "class ModelWithCustomCompile(keras.Model):\n",
        "    def __init__(self, **kwargs):\n",
        "        super().__init__(**kwargs)\n",
        "        self.dense1 = keras.layers.Dense(8, activation=\"relu\")\n",
        "        self.dense2 = keras.layers.Dense(4, activation=\"softmax\")\n",
        "\n",
        "    def call(self, inputs):\n",
        "        x = self.dense1(inputs)\n",
        "        return self.dense2(x)\n",
        "\n",
        "    def compile(self, optimizer, loss_fn, metrics):\n",
        "        super().compile(optimizer=optimizer, loss=loss_fn, metrics=metrics)\n",
        "        self.model_optimizer = optimizer\n",
        "        self.loss_fn = loss_fn\n",
        "        self.loss_metrics = metrics\n",
        "\n",
        "    def get_compile_config(self):\n",
        "        # These parameters will be serialized at saving time.\n",
        "        return {\n",
        "            \"model_optimizer\": self.model_optimizer,\n",
        "            \"loss_fn\": self.loss_fn,\n",
        "            \"metric\": self.loss_metrics,\n",
        "        }\n",
        "\n",
        "    def compile_from_config(self, config):\n",
        "        # Deserializes the compile parameters (important, since many are custom)\n",
        "        optimizer = keras.utils.deserialize_keras_object(config[\"model_optimizer\"])\n",
        "        loss_fn = keras.utils.deserialize_keras_object(config[\"loss_fn\"])\n",
        "        metrics = keras.utils.deserialize_keras_object(config[\"metric\"])\n",
        "\n",
        "        # Calls compile with the deserialized parameters\n",
        "        self.compile(optimizer=optimizer, loss_fn=loss_fn, metrics=metrics)\n",
        "\n",
        "\n",
        "model = ModelWithCustomCompile()\n",
        "model.compile(\n",
        "    optimizer=\"SGD\", loss_fn=small_square_sum_loss, metrics=[\"accuracy\", mean_pred]\n",
        ")\n",
        "\n",
        "x = np.random.random((4, 8))\n",
        "y = np.random.random((4,))\n",
        "\n",
        "model.fit(x, y)\n",
        "\n",
        "model.save(\"custom_compile_model.keras\")\n",
        "restored_model = keras.models.load_model(\"custom_compile_model.keras\")\n",
        "\n",
        "np.testing.assert_equal(model.model_optimizer, restored_model.model_optimizer)\n",
        "np.testing.assert_equal(model.loss_fn, restored_model.loss_fn)\n",
        "np.testing.assert_equal(model.loss_metrics, restored_model.loss_metrics)"
      ]
    },
    {
      "cell_type": "markdown",
      "metadata": {
        "id": "0fXwOKgUHAUB"
      },
      "source": [
        "## Conclusion\n",
        "\n",
        "Using the methods learned in this tutorial allows for a wide variety of use cases,\n",
        "allowing the saving and loading of complex models with exotic assets and state\n",
        "elements. To recap:\n",
        "\n",
        "- `save_own_variables` and `load_own_variables` determine how your states are saved\n",
        "and loaded.\n",
        "- `save_assets` and `load_assets` can be added to store and load any additional\n",
        "information your model needs.\n",
        "- `get_build_config` and `build_from_config` save and restore the model's built\n",
        "states.\n",
        "- `get_compile_config` and `compile_from_config` save and restore the model's\n",
        "compiled states."
      ]
    }
  ],
  "metadata": {
    "accelerator": "None",
    "colab": {
      "name": "customizing_saving_and_serialization",
      "provenance": [],
      "toc_visible": true
    },
    "kernelspec": {
      "display_name": "Python 3",
      "language": "python",
      "name": "python3"
    },
    "language_info": {
      "codemirror_mode": {
        "name": "ipython",
        "version": 3
      },
      "file_extension": ".py",
      "mimetype": "text/x-python",
      "name": "python",
      "nbconvert_exporter": "python",
      "pygments_lexer": "ipython3",
      "version": "3.7.0"
    }
  },
  "nbformat": 4,
  "nbformat_minor": 0
}