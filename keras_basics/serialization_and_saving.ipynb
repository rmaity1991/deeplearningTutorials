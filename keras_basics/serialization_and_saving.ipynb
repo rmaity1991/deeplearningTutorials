{
  "cells": [
    {
      "cell_type": "markdown",
      "metadata": {
        "id": "ggAyBTBlG8aW"
      },
      "source": [
        "# Save, serialize, and export models\n",
        "\n",
        "**Authors:** Neel Kovelamudi, Francois Chollet<br>\n",
        "**Date created:** 2023/06/14<br>\n",
        "**Last modified:** 2023/06/30<br>\n",
        "**Description:** Complete guide to saving, serializing, and exporting models."
      ]
    },
    {
      "cell_type": "markdown",
      "metadata": {
        "id": "ZWFNAcVrG8ac"
      },
      "source": [
        "## Introduction\n",
        "\n",
        "A Keras model consists of multiple components:\n",
        "\n",
        "- The architecture, or configuration, which specifies what layers the model\n",
        "contain, and how they're connected.\n",
        "- A set of weights values (the \"state of the model\").\n",
        "- An optimizer (defined by compiling the model).\n",
        "- A set of losses and metrics (defined by compiling the model).\n",
        "\n",
        "The Keras API saves all of these pieces together in a unified format,\n",
        "marked by the `.keras` extension. This is a zip archive consisting of the\n",
        "following:\n",
        "\n",
        "- A JSON-based configuration file (config.json): Records of model, layer, and\n",
        "other trackables' configuration.\n",
        "- A H5-based state file, such as `model.weights.h5` (for the whole model),\n",
        "with directory keys for layers and their weights.\n",
        "- A metadata file in JSON, storing things such as the current Keras version.\n",
        "\n",
        "Let's take a look at how this works."
      ]
    },
    {
      "cell_type": "markdown",
      "metadata": {
        "id": "UjDP0xQjG8ad"
      },
      "source": [
        "## How to save and load a model\n",
        "\n",
        "If you only have 10 seconds to read this guide, here's what you need to know.\n",
        "\n",
        "**Saving a Keras model:**\n",
        "\n",
        "```python\n",
        "model = ...  # Get model (Sequential, Functional Model, or Model subclass)\n",
        "model.save('path/to/location.keras')  # The file needs to end with the .keras extension\n",
        "```\n",
        "\n",
        "**Loading the model back:**\n",
        "\n",
        "```python\n",
        "model = keras.models.load_model('path/to/location.keras')\n",
        "```\n",
        "\n",
        "Now, let's look at the details."
      ]
    },
    {
      "cell_type": "markdown",
      "metadata": {
        "id": "sSp7wMhHG8ae"
      },
      "source": [
        "## Setup"
      ]
    },
    {
      "cell_type": "code",
      "execution_count": null,
      "metadata": {
        "id": "IvFAUnALG8af"
      },
      "outputs": [],
      "source": [
        "import numpy as np\n",
        "import keras\n",
        "from keras import ops"
      ]
    },
    {
      "cell_type": "markdown",
      "metadata": {
        "id": "rnLtYHy5G8ag"
      },
      "source": [
        "## Saving\n",
        "\n",
        "This section is about saving an entire model to a single file. The file will include:\n",
        "\n",
        "- The model's architecture/config\n",
        "- The model's weight values (which were learned during training)\n",
        "- The model's compilation information (if `compile()` was called)\n",
        "- The optimizer and its state, if any (this enables you to restart training\n",
        "where you left)\n",
        "\n",
        "#### APIs\n",
        "\n",
        "You can save a model with `model.save()` or `keras.models.save_model()` (which is equivalent).\n",
        "You can load it back with `keras.models.load_model()`.\n",
        "\n",
        "The only supported format in Keras 3 is the \"Keras v3\" format,\n",
        "which uses the `.keras` extension.\n",
        "\n",
        "**Example:**"
      ]
    },
    {
      "cell_type": "code",
      "execution_count": null,
      "metadata": {
        "id": "P_ooYwNDG8ah"
      },
      "outputs": [],
      "source": [
        "\n",
        "def get_model():\n",
        "    # Create a simple model.\n",
        "    inputs = keras.Input(shape=(32,))\n",
        "    outputs = keras.layers.Dense(1)(inputs)\n",
        "    model = keras.Model(inputs, outputs)\n",
        "    model.compile(optimizer=keras.optimizers.Adam(), loss=\"mean_squared_error\")\n",
        "    return model\n",
        "\n",
        "\n",
        "model = get_model()\n",
        "\n",
        "# Train the model.\n",
        "test_input = np.random.random((128, 32))\n",
        "test_target = np.random.random((128, 1))\n",
        "model.fit(test_input, test_target)\n",
        "\n",
        "# Calling `save('my_model.keras')` creates a zip archive `my_model.keras`.\n",
        "model.save(\"my_model.keras\")\n",
        "\n",
        "# It can be used to reconstruct the model identically.\n",
        "reconstructed_model = keras.models.load_model(\"my_model.keras\")\n",
        "\n",
        "# Let's check:\n",
        "np.testing.assert_allclose(\n",
        "    model.predict(test_input), reconstructed_model.predict(test_input)\n",
        ")"
      ]
    },
    {
      "cell_type": "markdown",
      "metadata": {
        "id": "MQBRYHfgG8ah"
      },
      "source": [
        "### Custom objects\n",
        "\n",
        "This section covers the basic workflows for handling custom layers, functions, and\n",
        "models in Keras saving and reloading.\n",
        "\n",
        "When saving a model that includes custom objects, such as a subclassed Layer,\n",
        "you **must** define a `get_config()` method on the object class.\n",
        "If the arguments passed to the constructor (`__init__()` method) of the custom object\n",
        "aren't Python objects (anything other than base types like ints, strings,\n",
        "etc.), then you **must** also explicitly deserialize these arguments in the `from_config()`\n",
        "class method.\n",
        "\n",
        "Like this:\n",
        "\n",
        "```python\n",
        "class CustomLayer(keras.layers.Layer):\n",
        "    def __init__(self, sublayer, **kwargs):\n",
        "        super().__init__(**kwargs)\n",
        "        self.sublayer = sublayer\n",
        "\n",
        "    def call(self, x):\n",
        "        return self.sublayer(x)\n",
        "\n",
        "    def get_config(self):\n",
        "        base_config = super().get_config()\n",
        "        config = {\n",
        "            \"sublayer\": keras.saving.serialize_keras_object(self.sublayer),\n",
        "        }\n",
        "        return {**base_config, **config}\n",
        "\n",
        "    @classmethod\n",
        "    def from_config(cls, config):\n",
        "        sublayer_config = config.pop(\"sublayer\")\n",
        "        sublayer = keras.saving.deserialize_keras_object(sublayer_config)\n",
        "        return cls(sublayer, **config)\n",
        "```\n",
        "\n",
        "Please see the [Defining the config methods section](#config_methods) for more\n",
        "details and examples.\n",
        "\n",
        "The saved `.keras` file is lightweight and does not store the Python code for custom\n",
        "objects. Therefore, to reload the model, `load_model` requires access to the definition\n",
        "of any custom objects used through one of the following methods:\n",
        "\n",
        "1. Registering custom objects **(preferred)**,\n",
        "2. Passing custom objects directly when loading, or\n",
        "3. Using a custom object scope\n",
        "\n",
        "Below are examples of each workflow:\n",
        "\n",
        "#### Registering custom objects (**preferred**)\n",
        "\n",
        "This is the preferred method, as custom object registration greatly simplifies saving and\n",
        "loading code. Adding the `@keras.saving.register_keras_serializable` decorator to the\n",
        "class definition of a custom object registers the object globally in a master list,\n",
        "allowing Keras to recognize the object when loading the model.\n",
        "\n",
        "Let's create a custom model involving both a custom layer and a custom activation\n",
        "function to demonstrate this.\n",
        "\n",
        "**Example:**"
      ]
    },
    {
      "cell_type": "code",
      "execution_count": null,
      "metadata": {
        "id": "RsGqMindG8ai"
      },
      "outputs": [],
      "source": [
        "# Clear all previously registered custom objects\n",
        "keras.saving.get_custom_objects().clear()\n",
        "\n",
        "\n",
        "# Upon registration, you can optionally specify a package or a name.\n",
        "# If left blank, the package defaults to `Custom` and the name defaults to\n",
        "# the class name.\n",
        "@keras.saving.register_keras_serializable(package=\"MyLayers\")\n",
        "class CustomLayer(keras.layers.Layer):\n",
        "    def __init__(self, factor):\n",
        "        super().__init__()\n",
        "        self.factor = factor\n",
        "\n",
        "    def call(self, x):\n",
        "        return x * self.factor\n",
        "\n",
        "    def get_config(self):\n",
        "        return {\"factor\": self.factor}\n",
        "\n",
        "\n",
        "@keras.saving.register_keras_serializable(package=\"my_package\", name=\"custom_fn\")\n",
        "def custom_fn(x):\n",
        "    return x**2\n",
        "\n",
        "\n",
        "# Create the model.\n",
        "def get_model():\n",
        "    inputs = keras.Input(shape=(4,))\n",
        "    mid = CustomLayer(0.5)(inputs)\n",
        "    outputs = keras.layers.Dense(1, activation=custom_fn)(mid)\n",
        "    model = keras.Model(inputs, outputs)\n",
        "    model.compile(optimizer=\"rmsprop\", loss=\"mean_squared_error\")\n",
        "    return model\n",
        "\n",
        "\n",
        "# Train the model.\n",
        "def train_model(model):\n",
        "    input = np.random.random((4, 4))\n",
        "    target = np.random.random((4, 1))\n",
        "    model.fit(input, target)\n",
        "    return model\n",
        "\n",
        "\n",
        "test_input = np.random.random((4, 4))\n",
        "test_target = np.random.random((4, 1))\n",
        "\n",
        "model = get_model()\n",
        "model = train_model(model)\n",
        "model.save(\"custom_model.keras\")\n",
        "\n",
        "# Now, we can simply load without worrying about our custom objects.\n",
        "reconstructed_model = keras.models.load_model(\"custom_model.keras\")\n",
        "\n",
        "# Let's check:\n",
        "np.testing.assert_allclose(\n",
        "    model.predict(test_input), reconstructed_model.predict(test_input)\n",
        ")"
      ]
    },
    {
      "cell_type": "markdown",
      "metadata": {
        "id": "yzNyz8XIG8aj"
      },
      "source": [
        "#### Passing custom objects to `load_model()`"
      ]
    },
    {
      "cell_type": "code",
      "execution_count": null,
      "metadata": {
        "id": "ZWkj2AjCG8aj"
      },
      "outputs": [],
      "source": [
        "model = get_model()\n",
        "model = train_model(model)\n",
        "\n",
        "# Calling `save('my_model.keras')` creates a zip archive `my_model.keras`.\n",
        "model.save(\"custom_model.keras\")\n",
        "\n",
        "# Upon loading, pass a dict containing the custom objects used in the\n",
        "# `custom_objects` argument of `keras.models.load_model()`.\n",
        "reconstructed_model = keras.models.load_model(\n",
        "    \"custom_model.keras\",\n",
        "    custom_objects={\"CustomLayer\": CustomLayer, \"custom_fn\": custom_fn},\n",
        ")\n",
        "\n",
        "# Let's check:\n",
        "np.testing.assert_allclose(\n",
        "    model.predict(test_input), reconstructed_model.predict(test_input)\n",
        ")\n"
      ]
    },
    {
      "cell_type": "markdown",
      "metadata": {
        "id": "JByMd-JFG8ak"
      },
      "source": [
        "#### Using a custom object scope\n",
        "\n",
        "Any code within the custom object scope will be able to recognize the custom objects\n",
        "passed to the scope argument. Therefore, loading the model within the scope will allow\n",
        "the loading of our custom objects.\n",
        "\n",
        "**Example:**"
      ]
    },
    {
      "cell_type": "code",
      "execution_count": null,
      "metadata": {
        "id": "ONVVFq57G8ak"
      },
      "outputs": [],
      "source": [
        "model = get_model()\n",
        "model = train_model(model)\n",
        "model.save(\"custom_model.keras\")\n",
        "\n",
        "# Pass the custom objects dictionary to a custom object scope and place\n",
        "# the `keras.models.load_model()` call within the scope.\n",
        "custom_objects = {\"CustomLayer\": CustomLayer, \"custom_fn\": custom_fn}\n",
        "\n",
        "with keras.saving.custom_object_scope(custom_objects):\n",
        "    reconstructed_model = keras.models.load_model(\"custom_model.keras\")\n",
        "\n",
        "# Let's check:\n",
        "np.testing.assert_allclose(\n",
        "    model.predict(test_input), reconstructed_model.predict(test_input)\n",
        ")"
      ]
    },
    {
      "cell_type": "markdown",
      "metadata": {
        "id": "BJG9HyJEG8al"
      },
      "source": [
        "### Model serialization\n",
        "\n",
        "This section is about saving only the model's configuration, without its state.\n",
        "The model's configuration (or architecture) specifies what layers the model\n",
        "contains, and how these layers are connected. If you have the configuration of a model,\n",
        "then the model can be created with a freshly initialized state (no weights or compilation\n",
        "information).\n",
        "\n",
        "#### APIs\n",
        "\n",
        "The following serialization APIs are available:\n",
        "\n",
        "- `keras.models.clone_model(model)`: make a (randomly initialized) copy of a model.\n",
        "- `get_config()` and `cls.from_config()`: retrieve the configuration of a layer or model, and recreate\n",
        "a model instance from its config, respectively.\n",
        "- `keras.models.model_to_json()` and `keras.models.model_from_json()`: similar, but as JSON strings.\n",
        "- `keras.saving.serialize_keras_object()`: retrieve the configuration any arbitrary Keras object.\n",
        "- `keras.saving.deserialize_keras_object()`: recreate an object instance from its configuration.\n",
        "\n",
        "#### In-memory model cloning\n",
        "\n",
        "You can do in-memory cloning of a model via `keras.models.clone_model()`.\n",
        "This is equivalent to getting the config then recreating the model from its config\n",
        "(so it does not preserve compilation information or layer weights values).\n",
        "\n",
        "**Example:**"
      ]
    },
    {
      "cell_type": "code",
      "execution_count": null,
      "metadata": {
        "id": "g3TeRgnOG8al"
      },
      "outputs": [],
      "source": [
        "new_model = keras.models.clone_model(model)"
      ]
    },
    {
      "cell_type": "markdown",
      "metadata": {
        "id": "sHMim-f1G8al"
      },
      "source": [
        "#### `get_config()` and `from_config()`\n",
        "\n",
        "Calling `model.get_config()` or `layer.get_config()` will return a Python dict containing\n",
        "the configuration of the model or layer, respectively. You should define `get_config()`\n",
        "to contain arguments needed for the `__init__()` method of the model or layer. At loading time,\n",
        "the `from_config(config)` method will then call `__init__()` with these arguments to\n",
        "reconstruct the model or layer.\n",
        "\n",
        "\n",
        "**Layer example:**"
      ]
    },
    {
      "cell_type": "code",
      "execution_count": null,
      "metadata": {
        "id": "b2EYSeC3G8am"
      },
      "outputs": [],
      "source": [
        "layer = keras.layers.Dense(3, activation=\"relu\")\n",
        "layer_config = layer.get_config()\n",
        "print(layer_config)"
      ]
    },
    {
      "cell_type": "markdown",
      "metadata": {
        "id": "GQnpVi-jG8am"
      },
      "source": [
        "Now let's reconstruct the layer using the `from_config()` method:"
      ]
    },
    {
      "cell_type": "code",
      "execution_count": null,
      "metadata": {
        "id": "jD4Uf8_lG8am"
      },
      "outputs": [],
      "source": [
        "new_layer = keras.layers.Dense.from_config(layer_config)"
      ]
    },
    {
      "cell_type": "markdown",
      "metadata": {
        "id": "N9QB_pK7G8am"
      },
      "source": [
        "**Sequential model example:**"
      ]
    },
    {
      "cell_type": "code",
      "execution_count": null,
      "metadata": {
        "id": "m-9Qt02CG8an"
      },
      "outputs": [],
      "source": [
        "model = keras.Sequential([keras.Input((32,)), keras.layers.Dense(1)])\n",
        "config = model.get_config()\n",
        "new_model = keras.Sequential.from_config(config)"
      ]
    },
    {
      "cell_type": "markdown",
      "metadata": {
        "id": "0kTEoxfDG8an"
      },
      "source": [
        "**Functional model example:**"
      ]
    },
    {
      "cell_type": "code",
      "execution_count": null,
      "metadata": {
        "id": "G1Ql2xtVG8an"
      },
      "outputs": [],
      "source": [
        "inputs = keras.Input((32,))\n",
        "outputs = keras.layers.Dense(1)(inputs)\n",
        "model = keras.Model(inputs, outputs)\n",
        "config = model.get_config()\n",
        "new_model = keras.Model.from_config(config)"
      ]
    },
    {
      "cell_type": "markdown",
      "metadata": {
        "id": "ORHNhQsDG8an"
      },
      "source": [
        "#### `to_json()` and `keras.models.model_from_json()`\n",
        "\n",
        "This is similar to `get_config` / `from_config`, except it turns the model\n",
        "into a JSON string, which can then be loaded without the original model class.\n",
        "It is also specific to models, it isn't meant for layers.\n",
        "\n",
        "**Example:**"
      ]
    },
    {
      "cell_type": "code",
      "execution_count": null,
      "metadata": {
        "id": "KiQg1ZnbG8ao"
      },
      "outputs": [],
      "source": [
        "model = keras.Sequential([keras.Input((32,)), keras.layers.Dense(1)])\n",
        "json_config = model.to_json()\n",
        "new_model = keras.models.model_from_json(json_config)\n"
      ]
    },
    {
      "cell_type": "markdown",
      "metadata": {
        "id": "_uG5ad_vG8ao"
      },
      "source": [
        "#### Arbitrary object serialization and deserialization\n",
        "\n",
        "The `keras.saving.serialize_keras_object()` and `keras.saving.deserialize_keras_object()`\n",
        "APIs are general-purpose APIs that can be used to serialize or deserialize any Keras\n",
        "object and any custom object. It is at the foundation of saving model architecture and is\n",
        "behind all `serialize()`/`deserialize()` calls in keras.\n",
        "\n",
        "**Example**:"
      ]
    },
    {
      "cell_type": "code",
      "execution_count": null,
      "metadata": {
        "id": "Tyu3IjZpG8ao"
      },
      "outputs": [],
      "source": [
        "my_reg = keras.regularizers.L1(0.005)\n",
        "config = keras.saving.serialize_keras_object(my_reg)\n",
        "print(config)"
      ]
    },
    {
      "cell_type": "markdown",
      "metadata": {
        "id": "VluGLH8bG8ao"
      },
      "source": [
        "Note the serialization format containing all the necessary information for proper\n",
        "reconstruction:\n",
        "\n",
        "- `module` containing the name of the Keras module or other identifying module the object\n",
        "comes from\n",
        "- `class_name` containing the name of the object's class.\n",
        "- `config` with all the information needed to reconstruct the object\n",
        "- `registered_name` for custom objects. See [here](#custom_object_serialization).\n",
        "\n",
        "Now we can reconstruct the regularizer."
      ]
    },
    {
      "cell_type": "code",
      "execution_count": null,
      "metadata": {
        "id": "rw2J3wXsG8ao"
      },
      "outputs": [],
      "source": [
        "new_reg = keras.saving.deserialize_keras_object(config)"
      ]
    },
    {
      "cell_type": "markdown",
      "metadata": {
        "id": "BzFsEPRtG8ap"
      },
      "source": [
        "### Model weights saving\n",
        "\n",
        "You can choose to only save & load a model's weights. This can be useful if:\n",
        "\n",
        "- You only need the model for inference: in this case you won't need to\n",
        "restart training, so you don't need the compilation information or optimizer state.\n",
        "- You are doing transfer learning: in this case you will be training a new model\n",
        "reusing the state of a prior model, so you don't need the compilation\n",
        "information of the prior model.\n",
        "\n",
        "#### APIs for in-memory weight transfer\n",
        "\n",
        "Weights can be copied between different objects by using `get_weights()`\n",
        "and `set_weights()`:\n",
        "\n",
        "* `keras.layers.Layer.get_weights()`: Returns a list of NumPy arrays of weight values.\n",
        "* `keras.layers.Layer.set_weights(weights)`: Sets the model weights to the values\n",
        "provided (as NumPy arrays).\n",
        "\n",
        "Examples:\n",
        "\n",
        "***Transfering weights from one layer to another, in memory***"
      ]
    },
    {
      "cell_type": "code",
      "execution_count": null,
      "metadata": {
        "id": "C-Gel1e6G8ap"
      },
      "outputs": [],
      "source": [
        "\n",
        "def create_layer():\n",
        "    layer = keras.layers.Dense(64, activation=\"relu\", name=\"dense_2\")\n",
        "    layer.build((None, 784))\n",
        "    return layer\n",
        "\n",
        "\n",
        "layer_1 = create_layer()\n",
        "layer_2 = create_layer()\n",
        "\n",
        "# Copy weights from layer 1 to layer 2\n",
        "layer_2.set_weights(layer_1.get_weights())"
      ]
    },
    {
      "cell_type": "markdown",
      "metadata": {
        "id": "aRRJRCulG8ap"
      },
      "source": [
        "***Transfering weights from one model to another model with a compatible architecture, in memory***"
      ]
    },
    {
      "cell_type": "code",
      "execution_count": null,
      "metadata": {
        "id": "Cy4H7tDGG8ap"
      },
      "outputs": [],
      "source": [
        "# Create a simple functional model\n",
        "inputs = keras.Input(shape=(784,), name=\"digits\")\n",
        "x = keras.layers.Dense(64, activation=\"relu\", name=\"dense_1\")(inputs)\n",
        "x = keras.layers.Dense(64, activation=\"relu\", name=\"dense_2\")(x)\n",
        "outputs = keras.layers.Dense(10, name=\"predictions\")(x)\n",
        "functional_model = keras.Model(inputs=inputs, outputs=outputs, name=\"3_layer_mlp\")\n",
        "\n",
        "\n",
        "# Define a subclassed model with the same architecture\n",
        "class SubclassedModel(keras.Model):\n",
        "    def __init__(self, output_dim, name=None):\n",
        "        super().__init__(name=name)\n",
        "        self.output_dim = output_dim\n",
        "        self.dense_1 = keras.layers.Dense(64, activation=\"relu\", name=\"dense_1\")\n",
        "        self.dense_2 = keras.layers.Dense(64, activation=\"relu\", name=\"dense_2\")\n",
        "        self.dense_3 = keras.layers.Dense(output_dim, name=\"predictions\")\n",
        "\n",
        "    def call(self, inputs):\n",
        "        x = self.dense_1(inputs)\n",
        "        x = self.dense_2(x)\n",
        "        x = self.dense_3(x)\n",
        "        return x\n",
        "\n",
        "    def get_config(self):\n",
        "        return {\"output_dim\": self.output_dim, \"name\": self.name}\n",
        "\n",
        "\n",
        "subclassed_model = SubclassedModel(10)\n",
        "# Call the subclassed model once to create the weights.\n",
        "subclassed_model(np.ones((1, 784)))\n",
        "\n",
        "# Copy weights from functional_model to subclassed_model.\n",
        "subclassed_model.set_weights(functional_model.get_weights())\n",
        "\n",
        "assert len(functional_model.weights) == len(subclassed_model.weights)\n",
        "for a, b in zip(functional_model.weights, subclassed_model.weights):\n",
        "    np.testing.assert_allclose(a.numpy(), b.numpy())"
      ]
    },
    {
      "cell_type": "markdown",
      "metadata": {
        "id": "2SZ599seG8aq"
      },
      "source": [
        "***The case of stateless layers***\n",
        "\n",
        "Because stateless layers do not change the order or number of weights,\n",
        "models can have compatible architectures even if there are extra/missing\n",
        "stateless layers."
      ]
    },
    {
      "cell_type": "code",
      "execution_count": null,
      "metadata": {
        "id": "HJkLHDCOG8aq"
      },
      "outputs": [],
      "source": [
        "inputs = keras.Input(shape=(784,), name=\"digits\")\n",
        "x = keras.layers.Dense(64, activation=\"relu\", name=\"dense_1\")(inputs)\n",
        "x = keras.layers.Dense(64, activation=\"relu\", name=\"dense_2\")(x)\n",
        "outputs = keras.layers.Dense(10, name=\"predictions\")(x)\n",
        "functional_model = keras.Model(inputs=inputs, outputs=outputs, name=\"3_layer_mlp\")\n",
        "\n",
        "inputs = keras.Input(shape=(784,), name=\"digits\")\n",
        "x = keras.layers.Dense(64, activation=\"relu\", name=\"dense_1\")(inputs)\n",
        "x = keras.layers.Dense(64, activation=\"relu\", name=\"dense_2\")(x)\n",
        "\n",
        "# Add a dropout layer, which does not contain any weights.\n",
        "x = keras.layers.Dropout(0.5)(x)\n",
        "outputs = keras.layers.Dense(10, name=\"predictions\")(x)\n",
        "functional_model_with_dropout = keras.Model(\n",
        "    inputs=inputs, outputs=outputs, name=\"3_layer_mlp\"\n",
        ")\n",
        "\n",
        "functional_model_with_dropout.set_weights(functional_model.get_weights())"
      ]
    },
    {
      "cell_type": "markdown",
      "metadata": {
        "id": "BP9mEzKsG8aq"
      },
      "source": [
        "#### APIs for saving weights to disk & loading them back\n",
        "\n",
        "Weights can be saved to disk by calling `model.save_weights(filepath)`.\n",
        "The filename should end in `.weights.h5`.\n",
        "\n",
        "**Example:**"
      ]
    },
    {
      "cell_type": "code",
      "execution_count": null,
      "metadata": {
        "id": "3ckVVCDGG8aq"
      },
      "outputs": [],
      "source": [
        "# Runnable example\n",
        "sequential_model = keras.Sequential(\n",
        "    [\n",
        "        keras.Input(shape=(784,), name=\"digits\"),\n",
        "        keras.layers.Dense(64, activation=\"relu\", name=\"dense_1\"),\n",
        "        keras.layers.Dense(64, activation=\"relu\", name=\"dense_2\"),\n",
        "        keras.layers.Dense(10, name=\"predictions\"),\n",
        "    ]\n",
        ")\n",
        "sequential_model.save_weights(\"my_model.weights.h5\")\n",
        "sequential_model.load_weights(\"my_model.weights.h5\")"
      ]
    },
    {
      "cell_type": "markdown",
      "metadata": {
        "id": "0j5p4Hu4G8aq"
      },
      "source": [
        "Note that changing `layer.trainable` may result in a different\n",
        "`layer.weights` ordering when the model contains nested layers."
      ]
    },
    {
      "cell_type": "code",
      "execution_count": null,
      "metadata": {
        "id": "VQDxqMg1G8ar"
      },
      "outputs": [],
      "source": [
        "\n",
        "class NestedDenseLayer(keras.layers.Layer):\n",
        "    def __init__(self, units, name=None):\n",
        "        super().__init__(name=name)\n",
        "        self.dense_1 = keras.layers.Dense(units, name=\"dense_1\")\n",
        "        self.dense_2 = keras.layers.Dense(units, name=\"dense_2\")\n",
        "\n",
        "    def call(self, inputs):\n",
        "        return self.dense_2(self.dense_1(inputs))\n",
        "\n",
        "\n",
        "nested_model = keras.Sequential([keras.Input((784,)), NestedDenseLayer(10, \"nested\")])\n",
        "variable_names = [v.name for v in nested_model.weights]\n",
        "print(\"variables: {}\".format(variable_names))\n",
        "\n",
        "print(\"\\nChanging trainable status of one of the nested layers...\")\n",
        "nested_model.get_layer(\"nested\").dense_1.trainable = False\n",
        "\n",
        "variable_names_2 = [v.name for v in nested_model.weights]\n",
        "print(\"\\nvariables: {}\".format(variable_names_2))\n",
        "print(\"variable ordering changed:\", variable_names != variable_names_2)"
      ]
    },
    {
      "cell_type": "markdown",
      "metadata": {
        "id": "TF0klCOKG8ax"
      },
      "source": [
        "##### **Transfer learning example**\n",
        "\n",
        "When loading pretrained weights from a weights file, it is recommended to load\n",
        "the weights into the original checkpointed model, and then extract\n",
        "the desired weights/layers into a new model.\n",
        "\n",
        "**Example:**"
      ]
    },
    {
      "cell_type": "code",
      "execution_count": null,
      "metadata": {
        "id": "6db5QhIhG8ax"
      },
      "outputs": [],
      "source": [
        "\n",
        "def create_functional_model():\n",
        "    inputs = keras.Input(shape=(784,), name=\"digits\")\n",
        "    x = keras.layers.Dense(64, activation=\"relu\", name=\"dense_1\")(inputs)\n",
        "    x = keras.layers.Dense(64, activation=\"relu\", name=\"dense_2\")(x)\n",
        "    outputs = keras.layers.Dense(10, name=\"predictions\")(x)\n",
        "    return keras.Model(inputs=inputs, outputs=outputs, name=\"3_layer_mlp\")\n",
        "\n",
        "\n",
        "functional_model = create_functional_model()\n",
        "functional_model.save_weights(\"pretrained.weights.h5\")\n",
        "\n",
        "# In a separate program:\n",
        "pretrained_model = create_functional_model()\n",
        "pretrained_model.load_weights(\"pretrained.weights.h5\")\n",
        "\n",
        "# Create a new model by extracting layers from the original model:\n",
        "extracted_layers = pretrained_model.layers[:-1]\n",
        "extracted_layers.append(keras.layers.Dense(5, name=\"dense_3\"))\n",
        "model = keras.Sequential(extracted_layers)\n",
        "model.summary()"
      ]
    },
    {
      "cell_type": "markdown",
      "metadata": {
        "id": "UMsECsqDG8ay"
      },
      "source": [
        "### Appendix: Handling custom objects\n",
        "\n",
        "<a name=\"config_methods\"></a>\n",
        "#### Defining the config methods\n",
        "\n",
        "Specifications:\n",
        "\n",
        "* `get_config()` should return a JSON-serializable dictionary in order to be\n",
        "compatible with the Keras architecture- and model-saving APIs.\n",
        "* `from_config(config)` (a `classmethod`) should return a new layer or model\n",
        "object that is created from the config.\n",
        "The default implementation returns `cls(**config)`.\n",
        "\n",
        "**NOTE**:  If all your constructor arguments are already serializable, e.g. strings and\n",
        "ints, or non-custom Keras objects, overriding `from_config` is not necessary. However,\n",
        "for more complex objects such as layers or models passed to `__init__`, deserialization\n",
        "must be handled explicitly either in `__init__` itself or overriding the `from_config()`\n",
        "method.\n",
        "\n",
        "**Example:**"
      ]
    },
    {
      "cell_type": "code",
      "execution_count": null,
      "metadata": {
        "id": "ywVykwuUG8ay"
      },
      "outputs": [],
      "source": [
        "\n",
        "@keras.saving.register_keras_serializable(package=\"MyLayers\", name=\"KernelMult\")\n",
        "class MyDense(keras.layers.Layer):\n",
        "    def __init__(\n",
        "        self,\n",
        "        units,\n",
        "        *,\n",
        "        kernel_regularizer=None,\n",
        "        kernel_initializer=None,\n",
        "        nested_model=None,\n",
        "        **kwargs\n",
        "    ):\n",
        "        super().__init__(**kwargs)\n",
        "        self.hidden_units = units\n",
        "        self.kernel_regularizer = kernel_regularizer\n",
        "        self.kernel_initializer = kernel_initializer\n",
        "        self.nested_model = nested_model\n",
        "\n",
        "    def get_config(self):\n",
        "        config = super().get_config()\n",
        "        # Update the config with the custom layer's parameters\n",
        "        config.update(\n",
        "            {\n",
        "                \"units\": self.hidden_units,\n",
        "                \"kernel_regularizer\": self.kernel_regularizer,\n",
        "                \"kernel_initializer\": self.kernel_initializer,\n",
        "                \"nested_model\": self.nested_model,\n",
        "            }\n",
        "        )\n",
        "        return config\n",
        "\n",
        "    def build(self, input_shape):\n",
        "        input_units = input_shape[-1]\n",
        "        self.kernel = self.add_weight(\n",
        "            name=\"kernel\",\n",
        "            shape=(input_units, self.hidden_units),\n",
        "            regularizer=self.kernel_regularizer,\n",
        "            initializer=self.kernel_initializer,\n",
        "        )\n",
        "\n",
        "    def call(self, inputs):\n",
        "        return ops.matmul(inputs, self.kernel)\n",
        "\n",
        "\n",
        "layer = MyDense(units=16, kernel_regularizer=\"l1\", kernel_initializer=\"ones\")\n",
        "layer3 = MyDense(units=64, nested_model=layer)\n",
        "\n",
        "config = keras.layers.serialize(layer3)\n",
        "\n",
        "print(config)\n",
        "\n",
        "new_layer = keras.layers.deserialize(config)\n",
        "\n",
        "print(new_layer)"
      ]
    },
    {
      "cell_type": "markdown",
      "metadata": {
        "id": "l_UwRYhIG8ay"
      },
      "source": [
        "Note that overriding `from_config` is unnecessary above for `MyDense` because\n",
        "`hidden_units`, `kernel_initializer`, and `kernel_regularizer` are ints, strings, and a\n",
        "built-in Keras object, respectively. This means that the default `from_config`\n",
        "implementation of `cls(**config)` will work as intended.\n",
        "\n",
        "For more complex objects, such as layers and models passed to `__init__`, for\n",
        "example, you must explicitly deserialize these objects. Let's take a look at an example\n",
        "of a model where a `from_config` override is necessary.\n",
        "\n",
        "**Example:**\n",
        "<a name=\"registration_example\"></a>"
      ]
    },
    {
      "cell_type": "code",
      "execution_count": null,
      "metadata": {
        "id": "LA9uifUVG8az"
      },
      "outputs": [],
      "source": [
        "\n",
        "@keras.saving.register_keras_serializable(package=\"ComplexModels\")\n",
        "class CustomModel(keras.layers.Layer):\n",
        "    def __init__(self, first_layer, second_layer=None, **kwargs):\n",
        "        super().__init__(**kwargs)\n",
        "        self.first_layer = first_layer\n",
        "        if second_layer is not None:\n",
        "            self.second_layer = second_layer\n",
        "        else:\n",
        "            self.second_layer = keras.layers.Dense(8)\n",
        "\n",
        "    def get_config(self):\n",
        "        config = super().get_config()\n",
        "        config.update(\n",
        "            {\n",
        "                \"first_layer\": self.first_layer,\n",
        "                \"second_layer\": self.second_layer,\n",
        "            }\n",
        "        )\n",
        "        return config\n",
        "\n",
        "    @classmethod\n",
        "    def from_config(cls, config):\n",
        "        # Note that you can also use `keras.saving.deserialize_keras_object` here\n",
        "        config[\"first_layer\"] = keras.layers.deserialize(config[\"first_layer\"])\n",
        "        config[\"second_layer\"] = keras.layers.deserialize(config[\"second_layer\"])\n",
        "        return cls(**config)\n",
        "\n",
        "    def call(self, inputs):\n",
        "        return self.first_layer(self.second_layer(inputs))\n",
        "\n",
        "\n",
        "# Let's make our first layer the custom layer from the previous example (MyDense)\n",
        "inputs = keras.Input((32,))\n",
        "outputs = CustomModel(first_layer=layer)(inputs)\n",
        "model = keras.Model(inputs, outputs)\n",
        "\n",
        "config = model.get_config()\n",
        "new_model = keras.Model.from_config(config)"
      ]
    },
    {
      "cell_type": "markdown",
      "metadata": {
        "id": "w1z9c2oiG8az"
      },
      "source": [
        "<a name=\"custom_object_serialization\"></a>\n",
        "#### How custom objects are serialized\n",
        "\n",
        "The serialization format has a special key for custom objects registered via\n",
        "`@keras.saving.register_keras_serializable`. This `registered_name` key allows for easy\n",
        "retrieval at loading/deserialization time while also allowing users to add custom naming.\n",
        "\n",
        "Let's take a look at the config from serializing the custom layer `MyDense` we defined\n",
        "above.\n",
        "\n",
        "**Example**:"
      ]
    },
    {
      "cell_type": "code",
      "execution_count": null,
      "metadata": {
        "id": "UBMXtJ21G8az"
      },
      "outputs": [],
      "source": [
        "layer = MyDense(\n",
        "    units=16,\n",
        "    kernel_regularizer=keras.regularizers.L1L2(l1=1e-5, l2=1e-4),\n",
        "    kernel_initializer=\"ones\",\n",
        ")\n",
        "config = keras.layers.serialize(layer)\n",
        "print(config)"
      ]
    },
    {
      "cell_type": "markdown",
      "metadata": {
        "id": "PtrFmfpCG8az"
      },
      "source": [
        "As shown, the `registered_name` key contains the lookup information for the Keras master\n",
        "list, including the package `MyLayers` and the custom name `KernelMult` that we gave in\n",
        "the `@keras.saving.register_keras_serializable` decorator. Take a look again at the custom\n",
        "class definition/registration [here](#registration_example).\n",
        "\n",
        "Note that the `class_name` key contains the original name of the class, allowing for\n",
        "proper re-initialization in `from_config`.\n",
        "\n",
        "Additionally, note that the `module` key is `None` since this is a custom object."
      ]
    }
  ],
  "metadata": {
    "accelerator": "None",
    "colab": {
      "name": "serialization_and_saving",
      "provenance": [],
      "toc_visible": true
    },
    "kernelspec": {
      "display_name": "Python 3",
      "language": "python",
      "name": "python3"
    },
    "language_info": {
      "codemirror_mode": {
        "name": "ipython",
        "version": 3
      },
      "file_extension": ".py",
      "mimetype": "text/x-python",
      "name": "python",
      "nbconvert_exporter": "python",
      "pygments_lexer": "ipython3",
      "version": "3.7.0"
    }
  },
  "nbformat": 4,
  "nbformat_minor": 0
}